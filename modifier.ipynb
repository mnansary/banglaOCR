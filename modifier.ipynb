{
 "cells": [
  {
   "cell_type": "markdown",
   "metadata": {
    "id": "D97-4AFebElt"
   },
   "source": [
    "# Setup Segmentation Model"
   ]
  },
  {
   "cell_type": "code",
   "execution_count": 1,
   "metadata": {
    "colab": {
     "base_uri": "https://localhost:8080/"
    },
    "executionInfo": {
     "elapsed": 4645,
     "status": "ok",
     "timestamp": 1613924502369,
     "user": {
      "displayName": "silent assasin",
      "photoUrl": "",
      "userId": "03944281282578875705"
     },
     "user_tz": -360
    },
    "id": "rU1gl0-ehjn9",
    "outputId": "25e90c28-ce84-4e9c-90f9-67ff37165ec0"
   },
   "outputs": [
    {
     "name": "stdout",
     "output_type": "stream",
     "text": [
      "Segmentation Models: using `tf.keras` framework.\n"
     ]
    }
   ],
   "source": [
    "import tensorflow as tf\n",
    "import os\n",
    "os.environ['SM_FRAMEWORK'] = 'tf.keras'\n",
    "import segmentation_models as sm\n"
   ]
  },
  {
   "cell_type": "code",
   "execution_count": 2,
   "metadata": {
    "colab": {
     "base_uri": "https://localhost:8080/"
    },
    "executionInfo": {
     "elapsed": 920,
     "status": "ok",
     "timestamp": 1613924553573,
     "user": {
      "displayName": "silent assasin",
      "photoUrl": "",
      "userId": "03944281282578875705"
     },
     "user_tz": -360
    },
    "id": "25NM2BLfnyxR",
    "outputId": "425b28d3-df0f-4b53-ad62-634f438b323f"
   },
   "outputs": [],
   "source": [
    "IMG_DIM    =   128# @param\n",
    "NB_CHANNEL =    1# @param"
   ]
  },
  {
   "cell_type": "markdown",
   "metadata": {
    "id": "7sU6CX2RbQsj"
   },
   "source": [
    "# Model Definition"
   ]
  },
  {
   "cell_type": "code",
   "execution_count": 3,
   "metadata": {
    "executionInfo": {
     "elapsed": 28535,
     "status": "ok",
     "timestamp": 1613924871684,
     "user": {
      "displayName": "silent assasin",
      "photoUrl": "",
      "userId": "03944281282578875705"
     },
     "user_tz": -360
    },
    "id": "N-MHjv5wqUcV"
   },
   "outputs": [],
   "source": [
    "WEIGHT_PATH=os.path.join(os.getcwd(),'weights','modifier.h5')\n",
    "backbone= \"efficientnetb7\"# @param\n",
    "model = sm.Unet(backbone,\n",
    "              input_shape=(IMG_DIM,IMG_DIM,NB_CHANNEL), \n",
    "              classes=NB_CHANNEL,\n",
    "              encoder_weights=None)\n",
    "model.load_weights(WEIGHT_PATH)"
   ]
  },
  {
   "cell_type": "markdown",
   "metadata": {},
   "source": [
    "# Imports and Helpers "
   ]
  },
  {
   "cell_type": "code",
   "execution_count": 4,
   "metadata": {},
   "outputs": [],
   "source": [
    "import cv2\n",
    "import numpy as np\n",
    "import matplotlib.pyplot as plt\n",
    "import scipy\n",
    "import pytesseract\n",
    "%matplotlib inline\n",
    "\n",
    "def stripPads(arr,val):\n",
    "    '''\n",
    "        strip specific value\n",
    "        args:\n",
    "            arr :   the numpy array (2d)\n",
    "            val :   the value to strip\n",
    "        returns:\n",
    "            the clean array\n",
    "    '''\n",
    "    # x-axis\n",
    "    arr=arr[~np.all(arr == val, axis=1)]\n",
    "    # y-axis\n",
    "    arr=arr[:, ~np.all(arr == val, axis=0)]\n",
    "    return arr\n",
    "\n",
    "def invert_img(img):\n",
    "    '''\n",
    "        inverts an img\n",
    "    '''\n",
    "    img=img/255.0\n",
    "    img=1-img\n",
    "    img=img*255\n",
    "    img=img.astype('uint8')\n",
    "    return img\n",
    "    \n",
    "\n",
    "kernel=np.ones((5,5),np.uint8)\n",
    "def get_sorted_values_of_parts(parts,num_parts):\n",
    "    '''\n",
    "        sorts values from left to right in a labeled image\n",
    "        args:\n",
    "            parts     =  labeled data\n",
    "            num_parts =  number of parts present\n",
    "        returns:\n",
    "            list of values\n",
    "    '''\n",
    "    values=[]\n",
    "    # create a copy\n",
    "    data=np.copy(parts)\n",
    "    for _ in range(num_parts):\n",
    "        # non zeros\n",
    "        x,y=np.where(data>0)\n",
    "        y,x= zip(*sorted(zip(list(y), list(x))))\n",
    "        # value\n",
    "        v=parts[x[0],y[0]]\n",
    "        # clean up\n",
    "        data[data==v]=0\n",
    "        # append\n",
    "        values.append(v)\n",
    "    return values\n",
    "\n",
    "def padImage(img):\n",
    "    '''\n",
    "        pads an image and resizes\n",
    "    '''\n",
    "    # pad updown\n",
    "    h,w=img.shape\n",
    "    d1=(IMG_DIM-h)//2\n",
    "    d2=IMG_DIM-d1-h\n",
    "    top_bottom_pad1=np.ones((d1,w))*255\n",
    "    top_bottom_pad2=np.ones((d2,w))*255\n",
    "    img=np.concatenate([top_bottom_pad1,img,top_bottom_pad2],axis=0)\n",
    "    img=img.astype('uint8')\n",
    "    return img\n",
    "\n"
   ]
  },
  {
   "cell_type": "markdown",
   "metadata": {},
   "source": [
    "# Image "
   ]
  },
  {
   "cell_type": "code",
   "execution_count": 21,
   "metadata": {},
   "outputs": [
    {
     "name": "stdout",
     "output_type": "stream",
     "text": [
      "input image:\n",
      "\n",
      "\n",
      "\n"
     ]
    },
    {
     "data": {
      "image/png": "[encoded data removed]",
      "text/plain": [
       "<Figure size 432x288 with 1 Axes>"
      ]
     },
     "metadata": {
      "needs_background": "light"
     },
     "output_type": "display_data"
    }
   ],
   "source": [
    "img_path=os.path.join(os.getcwd(),'4.png')\n",
    "print('input image:\\n\\n\\n')\n",
    "img=cv2.imread(img_path)\n",
    "plt.imshow(img)\n",
    "plt.show()\n"
   ]
  },
  {
   "cell_type": "markdown",
   "metadata": {},
   "source": [
    "# Single Grapheme Model"
   ]
  },
  {
   "cell_type": "code",
   "execution_count": 22,
   "metadata": {},
   "outputs": [
    {
     "name": "stdout",
     "output_type": "stream",
     "text": [
      "processing image\n",
      "connecting words\n"
     ]
    },
    {
     "data": {
      "image/png": "[encoded data removed]",
      "text/plain": [
       "<Figure size 432x288 with 1 Axes>"
      ]
     },
     "metadata": {
      "needs_background": "light"
     },
     "output_type": "display_data"
    },
    {
     "name": "stdout",
     "output_type": "stream",
     "text": [
      "dividing data\n",
      "grapheme processing\n"
     ]
    },
    {
     "data": {
      "image/png": "[encoded data removed]",
      "text/plain": [
       "<Figure size 432x288 with 1 Axes>"
      ]
     },
     "metadata": {
      "needs_background": "light"
     },
     "output_type": "display_data"
    }
   ],
   "source": [
    "# process image\n",
    "print(\"processing image\")\n",
    "img=cv2.imread(img_path,0)\n",
    "blur = cv2.GaussianBlur(img,(5,5),0)\n",
    "_,img = cv2.threshold(blur,0,255,cv2.THRESH_BINARY+cv2.THRESH_OTSU)\n",
    "img=invert_img(img)\n",
    "# connect words\n",
    "print(\"connecting words\")\n",
    "words=cv2.dilate(img,kernel,iterations=10)\n",
    "words,num_of_words =scipy.ndimage.measurements.label(words)\n",
    "plt.imshow(words)\n",
    "plt.show()\n",
    "# divide data\n",
    "print(\"dividing data\")\n",
    "vals=get_sorted_values_of_parts(words,num_of_words)\n",
    "data=[]\n",
    "for component in vals:\n",
    "    idx = np.where(words==component)\n",
    "    y,h,x,w = np.min(idx[0]), np.max(idx[0]), np.min(idx[1]), np.max(idx[1])\n",
    "    word = img[y:h, x:w]    \n",
    "    graphemes,num=scipy.ndimage.measurements.label(word)\n",
    "    _vals=get_sorted_values_of_parts(graphemes,num)\n",
    "    wdata=[]\n",
    "    for _val in _vals:\n",
    "        grapheme=np.zeros(graphemes.shape)\n",
    "        x,y = np.where(graphemes==_val)\n",
    "        grapheme[x,y]=255\n",
    "        grapheme=stripPads(grapheme,0)\n",
    "        h,w=grapheme.shape\n",
    "        if h>20 and w>20:\n",
    "            wdata.append(grapheme)\n",
    "    data.append(wdata)\n",
    "# grapheme processing\n",
    "print(\"grapheme processing\")\n",
    "# pad\n",
    "pad=np.ones((IMG_DIM,IMG_DIM//2))*255\n",
    "pad=pad.astype('uint8')\n",
    "kernel=np.ones((3,3),np.uint8)\n",
    "comp=[]\n",
    "for word in data:\n",
    "    x=[]\n",
    "    for grapheme in word:\n",
    "        grapheme=cv2.dilate(grapheme,kernel,iterations=1)    \n",
    "        grapheme=invert_img(grapheme)\n",
    "        grapheme=cv2.resize(grapheme,(IMG_DIM,IMG_DIM))\n",
    "        blur = cv2.GaussianBlur(grapheme,(5,5),0)\n",
    "        _,grapheme = cv2.threshold(blur,0,255,cv2.THRESH_BINARY+cv2.THRESH_OTSU)\n",
    "        grapheme=np.expand_dims(grapheme,axis=-1)\n",
    "        grapheme=np.expand_dims(grapheme,axis=0)\n",
    "        x.append(grapheme)\n",
    "    x=np.vstack(x)\n",
    "    x=x/255.0\n",
    "    \n",
    "    y=model.predict(x)\n",
    "    text=''\n",
    "    ds=[]\n",
    "    for d in y:\n",
    "        d=np.squeeze(d)\n",
    "        d=d*255\n",
    "        d=d.astype('uint8')\n",
    "        blur = cv2.GaussianBlur(d,(5,5),0)\n",
    "        _,d = cv2.threshold(d,0,255,cv2.THRESH_BINARY+cv2.THRESH_OTSU)\n",
    "        ds.append(d)\n",
    "        \n",
    "    d=np.concatenate(ds,axis=1)\n",
    "    d=stripPads(d,255)\n",
    "    d=padImage(d)\n",
    "    comp.append(d)\n",
    "    comp.append(pad)\n",
    "\n",
    "final=np.concatenate(comp,axis=1) \n",
    "blur = cv2.GaussianBlur(final,(5,5),0)\n",
    "_,final = cv2.threshold(final,0,255,cv2.THRESH_BINARY+cv2.THRESH_OTSU)\n",
    "        \n",
    "plt.imshow(final)\n",
    "plt.show()\n",
    "    \n",
    "    \n",
    "    \n",
    "        \n"
   ]
  },
  {
   "cell_type": "code",
   "execution_count": 23,
   "metadata": {},
   "outputs": [
    {
     "name": "stdout",
     "output_type": "stream",
     "text": [
      "image text:\n",
      "\n",
      "\n",
      "\n",
      "লেখা কষ্টু\f",
      "\n",
      "\n",
      "\n",
      "\n",
      "\n"
     ]
    }
   ],
   "source": [
    "pred = pytesseract.image_to_string(final, lang='ben', config='--psm 6')\n",
    "text=pred.replace('\\n','')\n",
    "print(\"image text:\\n\\n\\n\")\n",
    "print(text)\n",
    "print(\"\\n\\n\\n\")\n"
   ]
  },
  {
   "cell_type": "code",
   "execution_count": null,
   "metadata": {},
   "outputs": [],
   "source": [
    "EXAMPLE OF FALSE PREDICTIONS"
   ]
  },
  {
   "cell_type": "code",
   "execution_count": null,
   "metadata": {},
   "outputs": [],
   "source": [
    "ALTHOUGH IT LOOKS CORRECTED BUT ITS WRONG"
   ]
  },
  {
   "cell_type": "code",
   "execution_count": null,
   "metadata": {},
   "outputs": [],
   "source": [
    "ERRORS HAPPEING AT TWO STAGES:\n",
    "    * Modifier Model Stage\n",
    "    * Tesseract it self is flawed\n",
    "    \n",
    "THANK YOU"
   ]
  }
 ],
 "metadata": {
  "accelerator": "TPU",
  "colab": {
   "name": "modifier.ipynb",
   "provenance": []
  },
  "kernelspec": {
   "display_name": "ocrenv",
   "language": "python",
   "name": "ocrenv"
  },
  "language_info": {
   "codemirror_mode": {
    "name": "ipython",
    "version": 3
   },
   "file_extension": ".py",
   "mimetype": "text/x-python",
   "name": "python",
   "nbconvert_exporter": "python",
   "pygments_lexer": "ipython3",
   "version": "3.6.9"
  }
 },
 "nbformat": 4,
 "nbformat_minor": 1
}
