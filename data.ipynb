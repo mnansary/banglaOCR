{
 "cells": [
  {
   "cell_type": "markdown",
   "id": "d1b79bc7",
   "metadata": {},
   "source": [
    "# parameters\n",
    "\n"
   ]
  },
  {
   "cell_type": "code",
   "execution_count": null,
   "id": "f46741f5",
   "metadata": {},
   "outputs": [],
   "source": [
    "data_dir       = \"/media/ansary/DriveData/Work/bengalAI/datasets/imgOCR\"\n",
    "img_height     = 64\n",
    "img_width      = 512\n",
    "save_dir       = \"/media/ansary/DriveData/Work/bengalAI/datasets/imgOCR\"\n",
    "nb_train       = 1000000\n",
    "nb_eval        = 1000"
   ]
  },
  {
   "cell_type": "markdown",
   "id": "54f84632",
   "metadata": {},
   "source": [
    "# Imports"
   ]
  },
  {
   "cell_type": "code",
   "execution_count": null,
   "id": "80fb84fd",
   "metadata": {},
   "outputs": [],
   "source": [
    "#----------------\n",
    "# images\n",
    "#----------------\n",
    "from coreLib.dataset import DataSet\n",
    "from coreLib.words import single\n",
    "from coreLib.store import genTFRecords\n",
    "from coreLib.utils import create_dir\n",
    "\n",
    "from tqdm.auto import tqdm\n",
    "import cv2\n",
    "import os \n",
    "import random\n",
    "import matplotlib.pyplot as plt\n",
    "%matplotlib inline\n",
    "\n",
    "#----------------\n",
    "# dataset \n",
    "#----------------\n",
    "ds=DataSet(data_dir)\n",
    "# pairs\n",
    "img_dir=create_dir(save_dir,\"images\")\n",
    "tgt_dir=create_dir(save_dir,\"targets\")\n",
    "wrd_dir=create_dir(save_dir,\"words\")\n",
    "# records\n",
    "rec_dir  =create_dir(save_dir,\"tfrecords\")\n",
    "train_rec=create_dir(rec_dir,\"train\")\n",
    "eval_rec =create_dir(rec_dir,\"eval\")"
   ]
  },
  {
   "cell_type": "markdown",
   "id": "56fe7f4e",
   "metadata": {},
   "source": [
    "# Data Creation"
   ]
  },
  {
   "cell_type": "code",
   "execution_count": null,
   "id": "5c1996b2",
   "metadata": {},
   "outputs": [],
   "source": [
    "# create the images\n",
    "for i in tqdm(range(nb_train+nb_eval)):\n",
    "    # selection\n",
    "    comp_type =random.choices(population=[\"number\",\"grapheme\",\"mixed\"],\n",
    "                              weights=[0.1,0.8,0.1],\n",
    "                              k=1)[0]\n",
    "    use_dict  =random.choices(population=[True,False],\n",
    "                              weights=[0.9,0.1],\n",
    "                              k=1)[0]\n",
    "    img,tgt,word,label=createImageTargetPair(ds,\n",
    "                                  comp_type,\n",
    "                                  use_dict,\n",
    "                                  (img_height,img_width))\n",
    "    \n",
    "    plt.imshow(np.concatenate([img,tgt,word],axis=0))\n",
    "    plt.show()\n",
    "    break\n",
    "#     # save\n",
    "#     cv2.imwrite(os.path.join(img_dir,f\"{i}.png\"),img)\n",
    "#     cv2.imwrite(os.path.join(tgt_dir,f\"{i}.png\"),tgt)\n",
    "#     cv2.imwrite(os.path.join(wrd_dir,f\"{i}.png\"),word)\n",
    "    \n",
    "# # paths    \n",
    "# img_paths=[img_path for img_path in glob(os.path.join(img_dir,\"*.*\"))]\n",
    "# # tfrecords\n",
    "# genTFRecords(img_paths,rec_dir)"
   ]
  },
  {
   "cell_type": "code",
   "execution_count": null,
   "id": "d45029c3",
   "metadata": {},
   "outputs": [],
   "source": []
  }
 ],
 "metadata": {
  "kernelspec": {
   "display_name": "bangla",
   "language": "python",
   "name": "bangla"
  },
  "language_info": {
   "codemirror_mode": {
    "name": "ipython",
    "version": 3
   },
   "file_extension": ".py",
   "mimetype": "text/x-python",
   "name": "python",
   "nbconvert_exporter": "python",
   "pygments_lexer": "ipython3",
   "version": "3.8.5"
  }
 },
 "nbformat": 4,
 "nbformat_minor": 5
}
