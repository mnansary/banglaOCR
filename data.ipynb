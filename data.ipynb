{
 "cells": [
  {
   "cell_type": "markdown",
   "id": "a78a49c5",
   "metadata": {},
   "source": [
    "# parameters\n",
    "\n"
   ]
  },
  {
   "cell_type": "code",
   "execution_count": null,
   "id": "4b14a692",
   "metadata": {},
   "outputs": [],
   "source": [
    "data_dir       = \"/media/ansary/DriveData/Work/bengalAI/datasets/imgOCR\"\n",
    "img_height     = 64\n",
    "img_width      = 512\n",
    "save_dir       = \"/media/ansary/DriveData/Work/bengalAI/datasets/imgOCR\"\n",
    "nb_train       = 1000000\n",
    "nb_eval        = 1000"
   ]
  },
  {
   "cell_type": "markdown",
   "id": "7dc98eff",
   "metadata": {},
   "source": [
    "# Imports"
   ]
  },
  {
   "cell_type": "code",
   "execution_count": null,
   "id": "80fb84fd",
   "metadata": {},
   "outputs": [],
   "source": [
    "#----------------\n",
    "# images\n",
    "#----------------\n",
    "from coreLib.dataset import DataSet\n",
    "from coreLib.words import single\n",
    "from coreLib.store import genTFRecords\n",
    "from coreLib.utils import create_dir\n",
    "\n",
    "from tqdm.auto import tqdm\n",
    "import pandas as pd\n",
    "import numpy as np \n",
    "import cv2\n",
    "import os \n",
    "import random\n",
    "import matplotlib.pyplot as plt\n",
    "%matplotlib inline\n",
    "\n",
    "#----------------\n",
    "# dataset \n",
    "#----------------\n",
    "ds=DataSet(data_dir)\n",
    "# pairs\n",
    "img_dir=create_dir(save_dir,\"images\")\n",
    "tgt_dir=create_dir(save_dir,\"targets\")\n",
    "wrd_dir=create_dir(save_dir,\"words\")\n",
    "data_csv=os.path.join(save_dir,\"data.csv\")\n",
    "# records\n",
    "rec_dir  =create_dir(save_dir,\"tfrecords\")\n",
    "\n"
   ]
  },
  {
   "cell_type": "markdown",
   "id": "fa6d8d5d",
   "metadata": {},
   "source": [
    "# Data Creation"
   ]
  },
  {
   "cell_type": "code",
   "execution_count": null,
   "id": "41b1fd84",
   "metadata": {},
   "outputs": [],
   "source": [
    "idens=[]\n",
    "labels=[]\n",
    "# create the images\n",
    "for i in tqdm(range(nb_train+nb_eval)):\n",
    "    try:\n",
    "        # selection\n",
    "        comp_type =random.choices(population=[\"number\",\"grapheme\",\"mixed\"],\n",
    "                                  weights=[0.1,0.8,0.1],\n",
    "                                  k=1)[0]\n",
    "        use_dict  =random.choices(population=[True,False],\n",
    "                                  weights=[0.9,0.1],\n",
    "                                  k=1)[0]\n",
    "        img,tgt,word,label=single(ds,\n",
    "                                  comp_type,\n",
    "                                  use_dict,\n",
    "                                  (img_height,img_width))\n",
    "        # label-mapping\n",
    "        idens.append(f\"{i}.png\")\n",
    "        labels.append(label)\n",
    "\n",
    "\n",
    "        # save\n",
    "        cv2.imwrite(os.path.join(img_dir,f\"{i}.png\"),img)\n",
    "        cv2.imwrite(os.path.join(tgt_dir,f\"{i}.png\"),tgt)\n",
    "        cv2.imwrite(os.path.join(wrd_dir,f\"{i}.png\"),word)\n",
    "    except Exception as e:\n",
    "        print(e)\n",
    "        \n",
    "df=pd.DataFrame({\"iden\":idens,\"label\":labels})\n",
    "df.to_csv(data_csv,index=False)\n",
    "df\n"
   ]
  },
  {
   "cell_type": "code",
   "execution_count": null,
   "id": "37795031",
   "metadata": {},
   "outputs": [],
   "source": [
    "from glob import glob\n",
    "# paths    \n",
    "img_paths=[img_path for img_path in glob(os.path.join(img_dir,\"*.*\"))]\n",
    "# tfrecords\n",
    "genTFRecords(img_paths,rec_dir)"
   ]
  },
  {
   "cell_type": "code",
   "execution_count": null,
   "id": "302cd1be",
   "metadata": {},
   "outputs": [],
   "source": []
  }
 ],
 "metadata": {
  "kernelspec": {
   "display_name": "bangla",
   "language": "python",
   "name": "bangla"
  },
  "language_info": {
   "codemirror_mode": {
    "name": "ipython",
    "version": 3
   },
   "file_extension": ".py",
   "mimetype": "text/x-python",
   "name": "python",
   "nbconvert_exporter": "python",
   "pygments_lexer": "ipython3",
   "version": "3.8.5"
  }
 },
 "nbformat": 4,
 "nbformat_minor": 5
}
