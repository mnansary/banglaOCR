{
 "cells": [
  {
   "cell_type": "markdown",
   "id": "9a722765",
   "metadata": {},
   "source": [
    "# Params"
   ]
  },
  {
   "cell_type": "code",
   "execution_count": 2,
   "id": "7ece1f87",
   "metadata": {},
   "outputs": [],
   "source": [
    "boise_state_data_path=\"/media/ansary/DriveData/Work/bengalAI/datasets/imgOCR/boise_state/\"\n",
    "img_height     = 64\n",
    "img_width      = 512\n",
    "save_dir       = \"/media/ansary/DriveData/Work/bengalAI/datasets/imgOCR/boise_state/\"\n"
   ]
  },
  {
   "cell_type": "markdown",
   "id": "e2143b76",
   "metadata": {},
   "source": [
    "# Imports and Resources"
   ]
  },
  {
   "cell_type": "code",
   "execution_count": 3,
   "id": "c5c23cdc",
   "metadata": {},
   "outputs": [
    {
     "data": {
      "application/vnd.jupyter.widget-view+json": {
       "model_id": "b7401fce3bb846fc8fd5c8c1de426768",
       "version_major": 2,
       "version_minor": 0
      },
      "text/plain": [
       "  0%|          | 0/59696 [00:00<?, ?it/s]"
      ]
     },
     "metadata": {},
     "output_type": "display_data"
    },
    {
     "data": {
      "application/vnd.jupyter.widget-view+json": {
       "model_id": "f3366f9f3b5a43c4bbd934118b44c4a5",
       "version_major": 2,
       "version_minor": 0
      },
      "text/plain": [
       "  0%|          | 0/59696 [00:00<?, ?it/s]"
      ]
     },
     "metadata": {},
     "output_type": "display_data"
    }
   ],
   "source": [
    "#---------------------\n",
    "# import\n",
    "#---------------------\n",
    "import PIL\n",
    "import PIL.Image , PIL.ImageDraw , PIL.ImageFont \n",
    "import os\n",
    "import pandas as pd\n",
    "import numpy as np\n",
    "import matplotlib.pyplot as plt\n",
    "import cv2\n",
    "import tensorflow as tf\n",
    "%matplotlib inline\n",
    "\n",
    "\n",
    "from glob import glob\n",
    "from ast import literal_eval\n",
    "from tqdm.auto import tqdm\n",
    "tqdm.pandas()\n",
    "\n",
    "from coreLib.store import genTFRecords\n",
    "from coreLib.utils import create_dir,correctPadding,stripPads\n",
    "#---------------------\n",
    "# resources\n",
    "#---------------------\n",
    "save_dir=create_dir(save_dir,\"temp\")\n",
    "words_dir=os.path.join(boise_state_data_path,\"words\")\n",
    "label_csv=os.path.join(boise_state_data_path,\"labels.csv\")\n",
    "# pairs\n",
    "img_dir=create_dir(save_dir,\"images\")\n",
    "tgt_dir=create_dir(save_dir,\"targets\")\n",
    "# records\n",
    "rec_dir  =create_dir(save_dir,\"tfrecords\")\n",
    "# dataframe \n",
    "df=pd.read_csv(label_csv)\n",
    "# eval labels\n",
    "df.labels=df.labels.progress_apply(lambda x: literal_eval(x))\n",
    "# img_path\n",
    "df[\"img_path\"]=df.filename.progress_apply(lambda x: os.path.join(words_dir,x))\n",
    "df\n",
    "\n",
    "# Font\n",
    "font_path     =os.path.join(os.getcwd(),\"Bangla.ttf\")\n",
    "# create font\n",
    "font=PIL.ImageFont.truetype(font_path, size=img_height)"
   ]
  },
  {
   "cell_type": "markdown",
   "id": "b2d1f1cc",
   "metadata": {},
   "source": [
    "# Create Image->Word (target data)"
   ]
  },
  {
   "cell_type": "code",
   "execution_count": 18,
   "id": "249f6e35",
   "metadata": {},
   "outputs": [
    {
     "data": {
      "application/vnd.jupyter.widget-view+json": {
       "model_id": "3478a77ac9ed443c9d57a0857f402fae",
       "version_major": 2,
       "version_minor": 0
      },
      "text/plain": [
       "  0%|          | 0/59696 [00:00<?, ?it/s]"
      ]
     },
     "metadata": {},
     "output_type": "display_data"
    },
    {
     "name": "stdout",
     "output_type": "stream",
     "text": [
      "OpenCV(4.5.1) /tmp/pip-req-build-ms668fyv/opencv/modules/imgproc/src/resize.cpp:4054: error: (-215:Assertion failed) inv_scale_x > 0 in function 'resize'\n",
      "\n",
      "OpenCV(4.5.1) /tmp/pip-req-build-ms668fyv/opencv/modules/imgproc/src/resize.cpp:4054: error: (-215:Assertion failed) inv_scale_x > 0 in function 'resize'\n",
      "\n"
     ]
    },
    {
     "name": "stderr",
     "output_type": "stream",
     "text": [
      "<ipython-input-18-562939ebf8f6>:46: RuntimeWarning: invalid value encountered in long_scalars\n",
      "  width= int(img_height* w/h)\n",
      "<ipython-input-18-562939ebf8f6>:46: RuntimeWarning: divide by zero encountered in long_scalars\n",
      "  width= int(img_height* w/h)\n"
     ]
    },
    {
     "name": "stdout",
     "output_type": "stream",
     "text": [
      "cannot convert float NaN to integer\n",
      "cannot convert float infinity to integer\n",
      "cannot convert float infinity to integer\n",
      "cannot convert float infinity to integer\n",
      "cannot convert float infinity to integer\n",
      "cannot convert float infinity to integer\n",
      "cannot convert float infinity to integer\n",
      "OpenCV(4.5.1) /tmp/pip-req-build-ms668fyv/opencv/modules/imgproc/src/resize.cpp:4054: error: (-215:Assertion failed) inv_scale_x > 0 in function 'resize'\n",
      "\n",
      "cannot convert float infinity to integer\n",
      "OpenCV(4.5.1) /tmp/pip-req-build-ms668fyv/opencv/modules/imgproc/src/resize.cpp:4054: error: (-215:Assertion failed) inv_scale_x > 0 in function 'resize'\n",
      "\n",
      "OpenCV(4.5.1) /tmp/pip-req-build-ms668fyv/opencv/modules/imgproc/src/resize.cpp:4054: error: (-215:Assertion failed) inv_scale_x > 0 in function 'resize'\n",
      "\n",
      "OpenCV(4.5.1) /tmp/pip-req-build-ms668fyv/opencv/modules/imgproc/src/resize.cpp:4054: error: (-215:Assertion failed) inv_scale_x > 0 in function 'resize'\n",
      "\n",
      "OpenCV(4.5.1) /tmp/pip-req-build-ms668fyv/opencv/modules/imgproc/src/resize.cpp:4054: error: (-215:Assertion failed) inv_scale_x > 0 in function 'resize'\n",
      "\n",
      "OpenCV(4.5.1) /tmp/pip-req-build-ms668fyv/opencv/modules/imgproc/src/resize.cpp:4054: error: (-215:Assertion failed) inv_scale_x > 0 in function 'resize'\n",
      "\n",
      "OpenCV(4.5.1) /tmp/pip-req-build-ms668fyv/opencv/modules/imgproc/src/resize.cpp:4054: error: (-215:Assertion failed) inv_scale_x > 0 in function 'resize'\n",
      "\n",
      "OpenCV(4.5.1) /tmp/pip-req-build-ms668fyv/opencv/modules/imgproc/src/resize.cpp:4054: error: (-215:Assertion failed) inv_scale_x > 0 in function 'resize'\n",
      "\n",
      "cannot convert float infinity to integer\n",
      "cannot convert float infinity to integer\n",
      "OpenCV(4.5.1) /tmp/pip-req-build-ms668fyv/opencv/modules/imgproc/src/resize.cpp:4054: error: (-215:Assertion failed) inv_scale_x > 0 in function 'resize'\n",
      "\n",
      "cannot convert float infinity to integer\n",
      "OpenCV(4.5.1) /tmp/pip-req-build-ms668fyv/opencv/modules/imgproc/src/resize.cpp:4054: error: (-215:Assertion failed) inv_scale_x > 0 in function 'resize'\n",
      "\n",
      "cannot convert float infinity to integer\n",
      "OpenCV(4.5.1) /tmp/pip-req-build-ms668fyv/opencv/modules/imgproc/src/resize.cpp:4054: error: (-215:Assertion failed) inv_scale_x > 0 in function 'resize'\n",
      "\n",
      "cannot convert float infinity to integer\n",
      "OpenCV(4.5.1) /tmp/pip-req-build-ms668fyv/opencv/modules/imgproc/src/resize.cpp:4054: error: (-215:Assertion failed) inv_scale_x > 0 in function 'resize'\n",
      "\n",
      "OpenCV(4.5.1) /tmp/pip-req-build-ms668fyv/opencv/modules/imgproc/src/resize.cpp:4054: error: (-215:Assertion failed) inv_scale_x > 0 in function 'resize'\n",
      "\n",
      "cannot convert float infinity to integer\n",
      "cannot convert float infinity to integer\n",
      "OpenCV(4.5.1) /tmp/pip-req-build-ms668fyv/opencv/modules/imgproc/src/resize.cpp:4054: error: (-215:Assertion failed) inv_scale_x > 0 in function 'resize'\n",
      "\n",
      "cannot convert float infinity to integer\n",
      "OpenCV(4.5.1) /tmp/pip-req-build-ms668fyv/opencv/modules/imgproc/src/resize.cpp:4054: error: (-215:Assertion failed) inv_scale_x > 0 in function 'resize'\n",
      "\n",
      "cannot convert float infinity to integer\n",
      "cannot convert float infinity to integer\n",
      "OpenCV(4.5.1) /tmp/pip-req-build-ms668fyv/opencv/modules/imgproc/src/resize.cpp:4054: error: (-215:Assertion failed) inv_scale_x > 0 in function 'resize'\n",
      "\n",
      "OpenCV(4.5.1) /tmp/pip-req-build-ms668fyv/opencv/modules/imgproc/src/resize.cpp:4054: error: (-215:Assertion failed) inv_scale_x > 0 in function 'resize'\n",
      "\n",
      "cannot convert float infinity to integer\n",
      "cannot convert float infinity to integer\n",
      "cannot convert float infinity to integer\n",
      "cannot convert float infinity to integer\n",
      "cannot convert float infinity to integer\n",
      "cannot convert float infinity to integer\n",
      "OpenCV(4.5.1) /tmp/pip-req-build-ms668fyv/opencv/modules/imgproc/src/resize.cpp:4054: error: (-215:Assertion failed) inv_scale_x > 0 in function 'resize'\n",
      "\n",
      "OpenCV(4.5.1) /tmp/pip-req-build-ms668fyv/opencv/modules/imgproc/src/resize.cpp:4054: error: (-215:Assertion failed) inv_scale_x > 0 in function 'resize'\n",
      "\n",
      "cannot convert float infinity to integer\n",
      "OpenCV(4.5.1) /tmp/pip-req-build-ms668fyv/opencv/modules/imgproc/src/resize.cpp:4054: error: (-215:Assertion failed) inv_scale_x > 0 in function 'resize'\n",
      "\n",
      "cannot convert float infinity to integer\n",
      "OpenCV(4.5.1) /tmp/pip-req-build-ms668fyv/opencv/modules/imgproc/src/resize.cpp:4054: error: (-215:Assertion failed) inv_scale_x > 0 in function 'resize'\n",
      "\n",
      "OpenCV(4.5.1) /tmp/pip-req-build-ms668fyv/opencv/modules/imgproc/src/resize.cpp:4054: error: (-215:Assertion failed) inv_scale_x > 0 in function 'resize'\n",
      "\n",
      "cannot convert float infinity to integer\n",
      "OpenCV(4.5.1) /tmp/pip-req-build-ms668fyv/opencv/modules/imgproc/src/resize.cpp:4054: error: (-215:Assertion failed) inv_scale_x > 0 in function 'resize'\n",
      "\n",
      "cannot convert float infinity to integer\n",
      "OpenCV(4.5.1) /tmp/pip-req-build-ms668fyv/opencv/modules/imgproc/src/resize.cpp:4054: error: (-215:Assertion failed) inv_scale_x > 0 in function 'resize'\n",
      "\n",
      "OpenCV(4.5.1) /tmp/pip-req-build-ms668fyv/opencv/modules/imgproc/src/resize.cpp:4054: error: (-215:Assertion failed) inv_scale_x > 0 in function 'resize'\n",
      "\n",
      "OpenCV(4.5.1) /tmp/pip-req-build-ms668fyv/opencv/modules/imgproc/src/resize.cpp:4054: error: (-215:Assertion failed) inv_scale_x > 0 in function 'resize'\n",
      "\n",
      "cannot convert float infinity to integer\n",
      "cannot convert float infinity to integer\n",
      "cannot convert float infinity to integer\n",
      "cannot convert float NaN to integer\n",
      "OpenCV(4.5.1) /tmp/pip-req-build-ms668fyv/opencv/modules/imgproc/src/resize.cpp:4054: error: (-215:Assertion failed) inv_scale_x > 0 in function 'resize'\n",
      "\n",
      "OpenCV(4.5.1) /tmp/pip-req-build-ms668fyv/opencv/modules/imgproc/src/resize.cpp:4054: error: (-215:Assertion failed) inv_scale_x > 0 in function 'resize'\n",
      "\n",
      "cannot convert float infinity to integer\n",
      "OpenCV(4.5.1) /tmp/pip-req-build-ms668fyv/opencv/modules/imgproc/src/resize.cpp:4054: error: (-215:Assertion failed) inv_scale_x > 0 in function 'resize'\n",
      "\n",
      "cannot convert float infinity to integer\n",
      "cannot convert float NaN to integer\n",
      "OpenCV(4.5.1) /tmp/pip-req-build-ms668fyv/opencv/modules/imgproc/src/resize.cpp:4054: error: (-215:Assertion failed) inv_scale_x > 0 in function 'resize'\n",
      "\n",
      "OpenCV(4.5.1) /tmp/pip-req-build-ms668fyv/opencv/modules/imgproc/src/resize.cpp:4054: error: (-215:Assertion failed) inv_scale_x > 0 in function 'resize'\n",
      "\n",
      "OpenCV(4.5.1) /tmp/pip-req-build-ms668fyv/opencv/modules/imgproc/src/resize.cpp:4054: error: (-215:Assertion failed) inv_scale_x > 0 in function 'resize'\n",
      "\n",
      "OpenCV(4.5.1) /tmp/pip-req-build-ms668fyv/opencv/modules/imgproc/src/resize.cpp:4054: error: (-215:Assertion failed) inv_scale_x > 0 in function 'resize'\n",
      "\n",
      "cannot convert float infinity to integer\n",
      "cannot convert float infinity to integer\n",
      "cannot convert float infinity to integer\n",
      "OpenCV(4.5.1) /tmp/pip-req-build-ms668fyv/opencv/modules/imgproc/src/resize.cpp:4054: error: (-215:Assertion failed) inv_scale_x > 0 in function 'resize'\n",
      "\n",
      "OpenCV(4.5.1) /tmp/pip-req-build-ms668fyv/opencv/modules/imgproc/src/resize.cpp:4054: error: (-215:Assertion failed) inv_scale_x > 0 in function 'resize'\n",
      "\n",
      "OpenCV(4.5.1) /tmp/pip-req-build-ms668fyv/opencv/modules/imgproc/src/resize.cpp:4054: error: (-215:Assertion failed) inv_scale_x > 0 in function 'resize'\n",
      "\n",
      "OpenCV(4.5.1) /tmp/pip-req-build-ms668fyv/opencv/modules/imgproc/src/resize.cpp:4054: error: (-215:Assertion failed) inv_scale_x > 0 in function 'resize'\n",
      "\n",
      "OpenCV(4.5.1) /tmp/pip-req-build-ms668fyv/opencv/modules/imgproc/src/resize.cpp:4054: error: (-215:Assertion failed) inv_scale_x > 0 in function 'resize'\n",
      "\n",
      "cannot convert float infinity to integer\n",
      "OpenCV(4.5.1) /tmp/pip-req-build-ms668fyv/opencv/modules/imgproc/src/resize.cpp:4054: error: (-215:Assertion failed) inv_scale_x > 0 in function 'resize'\n",
      "\n",
      "OpenCV(4.5.1) /tmp/pip-req-build-ms668fyv/opencv/modules/imgproc/src/resize.cpp:4054: error: (-215:Assertion failed) inv_scale_x > 0 in function 'resize'\n",
      "\n",
      "OpenCV(4.5.1) /tmp/pip-req-build-ms668fyv/opencv/modules/imgproc/src/resize.cpp:4054: error: (-215:Assertion failed) inv_scale_x > 0 in function 'resize'\n",
      "\n",
      "OpenCV(4.5.1) /tmp/pip-req-build-ms668fyv/opencv/modules/imgproc/src/resize.cpp:4054: error: (-215:Assertion failed) inv_scale_x > 0 in function 'resize'\n",
      "\n",
      "cannot convert float infinity to integer\n",
      "OpenCV(4.5.1) /tmp/pip-req-build-ms668fyv/opencv/modules/imgproc/src/resize.cpp:4054: error: (-215:Assertion failed) inv_scale_x > 0 in function 'resize'\n",
      "\n"
     ]
    },
    {
     "name": "stdout",
     "output_type": "stream",
     "text": [
      "cannot convert float infinity to integer\n",
      "cannot convert float NaN to integer\n",
      "cannot convert float infinity to integer\n",
      "OpenCV(4.5.1) /tmp/pip-req-build-ms668fyv/opencv/modules/imgproc/src/resize.cpp:4054: error: (-215:Assertion failed) inv_scale_x > 0 in function 'resize'\n",
      "\n",
      "OpenCV(4.5.1) /tmp/pip-req-build-ms668fyv/opencv/modules/imgproc/src/resize.cpp:4054: error: (-215:Assertion failed) inv_scale_x > 0 in function 'resize'\n",
      "\n",
      "OpenCV(4.5.1) /tmp/pip-req-build-ms668fyv/opencv/modules/imgproc/src/resize.cpp:4054: error: (-215:Assertion failed) inv_scale_x > 0 in function 'resize'\n",
      "\n",
      "OpenCV(4.5.1) /tmp/pip-req-build-ms668fyv/opencv/modules/imgproc/src/resize.cpp:4054: error: (-215:Assertion failed) inv_scale_x > 0 in function 'resize'\n",
      "\n",
      "OpenCV(4.5.1) /tmp/pip-req-build-ms668fyv/opencv/modules/imgproc/src/resize.cpp:4054: error: (-215:Assertion failed) inv_scale_x > 0 in function 'resize'\n",
      "\n",
      "OpenCV(4.5.1) /tmp/pip-req-build-ms668fyv/opencv/modules/imgproc/src/resize.cpp:4054: error: (-215:Assertion failed) inv_scale_x > 0 in function 'resize'\n",
      "\n",
      "cannot convert float NaN to integer\n",
      "cannot convert float NaN to integer\n",
      "cannot convert float NaN to integer\n",
      "cannot convert float infinity to integer\n",
      "OpenCV(4.5.1) /tmp/pip-req-build-ms668fyv/opencv/modules/imgproc/src/resize.cpp:4054: error: (-215:Assertion failed) inv_scale_x > 0 in function 'resize'\n",
      "\n",
      "OpenCV(4.5.1) /tmp/pip-req-build-ms668fyv/opencv/modules/imgproc/src/resize.cpp:4054: error: (-215:Assertion failed) inv_scale_x > 0 in function 'resize'\n",
      "\n",
      "OpenCV(4.5.1) /tmp/pip-req-build-ms668fyv/opencv/modules/imgproc/src/resize.cpp:4054: error: (-215:Assertion failed) inv_scale_x > 0 in function 'resize'\n",
      "\n",
      "cannot convert float infinity to integer\n",
      "OpenCV(4.5.1) /tmp/pip-req-build-ms668fyv/opencv/modules/imgproc/src/resize.cpp:4054: error: (-215:Assertion failed) inv_scale_x > 0 in function 'resize'\n",
      "\n",
      "cannot convert float infinity to integer\n",
      "OpenCV(4.5.1) /tmp/pip-req-build-ms668fyv/opencv/modules/imgproc/src/resize.cpp:4054: error: (-215:Assertion failed) inv_scale_x > 0 in function 'resize'\n",
      "\n"
     ]
    }
   ],
   "source": [
    "i=0\n",
    "\n",
    "font_path     =os.path.join(os.getcwd(),\"Bangla.ttf\")\n",
    "# create font\n",
    "font=PIL.ImageFont.truetype(font_path, size=img_height)\n",
    "\n",
    "for idx in tqdm(range(len(df))):\n",
    "    try:\n",
    "        # extract\n",
    "        img_path=df.iloc[idx,2]\n",
    "        comps=df.iloc[idx,1]\n",
    "        # image and label\n",
    "        img=cv2.imread(img_path,0)\n",
    "        img[img==255]=0\n",
    "        # resize (heigh based)\n",
    "        h,w=img.shape \n",
    "        width= int(img_height* w/h) \n",
    "        img=cv2.resize(img,(width,img_height),fx=0,fy=0, interpolation = cv2.INTER_NEAREST)\n",
    "\n",
    "        # unique values\n",
    "        vals=list(np.unique(img))\n",
    "        vals.remove(0)\n",
    "        # construct target    \n",
    "        tgts=[]\n",
    "        # grapheme wise separation\n",
    "        for v,comp in zip(vals,comps):\n",
    "            if v!=0:\n",
    "                    idx = np.where(img==v)\n",
    "                    y_min,y_max,x_min,x_max = np.min(idx[0]), np.max(idx[0]), np.min(idx[1]), np.max(idx[1])\n",
    "                    # font\n",
    "                    h=y_max-y_min\n",
    "                    w=x_max-x_min\n",
    "                    #----------------------\n",
    "                    # target\n",
    "                    #----------------------\n",
    "                    min_offset=100\n",
    "                    max_dim=h+w+min_offset\n",
    "                    # draw\n",
    "                    image = PIL.Image.new(mode='L', size=(max_dim,max_dim))\n",
    "                    draw = PIL.ImageDraw.Draw(image)\n",
    "                    draw.text(xy=(0, 0), text=comp, fill=255, font=font)\n",
    "                    # create target\n",
    "                    tgt=np.array(image)\n",
    "                    tgt=stripPads(tgt,0)\n",
    "                    # resize\n",
    "                    width= int(img_height* w/h) \n",
    "                    tgt=cv2.resize(tgt,(width,img_height),fx=0,fy=0, interpolation = cv2.INTER_NEAREST)\n",
    "                    tgts.append(tgt)\n",
    "\n",
    "        tgt=np.concatenate(tgts,axis=1)\n",
    "        # resize\n",
    "        h,w=img.shape \n",
    "        tgt=cv2.resize(tgt,(w,h),fx=0,fy=0, interpolation = cv2.INTER_NEAREST)\n",
    "\n",
    "        # revalue\n",
    "        img[img>0]=255\n",
    "        # pad correction\n",
    "        img=correctPadding(img)\n",
    "        tgt=correctPadding(tgt)\n",
    "        # save\n",
    "        cv2.imwrite(os.path.join(img_dir,f\"{i}.png\"),img)\n",
    "        cv2.imwrite(os.path.join(tgt_dir,f\"{i}.png\"),tgt)\n",
    "        i+=1\n",
    "    except Exception as e:\n",
    "        print(e)\n",
    "\n",
    "   \n"
   ]
  },
  {
   "cell_type": "markdown",
   "id": "01a4946a",
   "metadata": {},
   "source": [
    "# Synthetic additions"
   ]
  },
  {
   "cell_type": "code",
   "execution_count": 19,
   "id": "772a0597",
   "metadata": {},
   "outputs": [
    {
     "name": "stdout",
     "output_type": "stream",
     "text": [
      "\u001b[32m#LOG     :\u001b[0m\u001b[32mAll paths found\u001b[0m\n"
     ]
    },
    {
     "name": "stderr",
     "output_type": "stream",
     "text": [
      "100%|██████████| 200840/200840 [00:00<00:00, 302647.21it/s]\n",
      "100%|██████████| 72045/72045 [00:00<00:00, 371106.46it/s]\n",
      "  0%|          | 1914/1059977 [00:00<00:55, 19138.24it/s]"
     ]
    },
    {
     "name": "stdout",
     "output_type": "stream",
     "text": [
      "\u001b[32m#LOG     :\u001b[0m\u001b[34mProcessing Dictionary:/media/ansary/DriveData/Work/bengalAI/datasets/imgOCR/bangla/dictionary.csv\u001b[0m\n"
     ]
    },
    {
     "name": "stderr",
     "output_type": "stream",
     "text": [
      "100%|██████████| 1059977/1059977 [00:28<00:00, 37073.93it/s]\n"
     ]
    },
    {
     "name": "stdout",
     "output_type": "stream",
     "text": [
      "\u001b[32m#LOG     :\u001b[0m\u001b[34mbangla.graphemes\u001b[0m\n"
     ]
    },
    {
     "name": "stderr",
     "output_type": "stream",
     "text": [
      "100%|██████████| 200840/200840 [00:00<00:00, 2733646.21it/s]\n"
     ]
    },
    {
     "name": "stdout",
     "output_type": "stream",
     "text": [
      "\u001b[32m#LOG     :\u001b[0m\u001b[34mbangla.numbers\u001b[0m\n"
     ]
    },
    {
     "name": "stderr",
     "output_type": "stream",
     "text": [
      "100%|██████████| 72045/72045 [00:00<00:00, 2467066.43it/s]\n",
      "100%|██████████| 21/21 [00:00<00:00, 805.11it/s]"
     ]
    },
    {
     "name": "stdout",
     "output_type": "stream",
     "text": [
      "\u001b[32m#LOG     :\u001b[0m\u001b[34mbangla.fonts\u001b[0m\n"
     ]
    },
    {
     "name": "stderr",
     "output_type": "stream",
     "text": [
      "\n"
     ]
    }
   ],
   "source": [
    "data_dir       = \"/media/ansary/DriveData/Work/bengalAI/datasets/imgOCR\"\n",
    "from coreLib.dataset import DataSet\n",
    "from coreLib.words import single\n",
    "i_start=i\n",
    "ds=DataSet(data_dir)\n",
    "\n"
   ]
  },
  {
   "cell_type": "code",
   "execution_count": null,
   "id": "4ca30873",
   "metadata": {},
   "outputs": [
    {
     "data": {
      "application/vnd.jupyter.widget-view+json": {
       "model_id": "54f23bba32db4f3997cb9ee721b28909",
       "version_major": 2,
       "version_minor": 0
      },
      "text/plain": [
       "  0%|          | 0/40409 [00:00<?, ?it/s]"
      ]
     },
     "metadata": {},
     "output_type": "display_data"
    },
    {
     "name": "stdout",
     "output_type": "stream",
     "text": [
      "negative dimensions are not allowed\n"
     ]
    }
   ],
   "source": [
    "import random\n",
    "# create the images\n",
    "for i in tqdm(range(i_start,100000)):\n",
    "    try:\n",
    "        use_dict  =random.choices(population=[True,False],\n",
    "                                  weights=[0.9,0.1],\n",
    "                                  k=1)[0]\n",
    "        img,tgt,word,label=single(ds,\n",
    "                                  \"grapheme\",\n",
    "                                  use_dict,\n",
    "                                  (img_height,img_width))\n",
    "\n",
    "        # save\n",
    "        cv2.imwrite(os.path.join(img_dir,f\"{i}.png\"),img)\n",
    "        cv2.imwrite(os.path.join(tgt_dir,f\"{i}.png\"),tgt)\n",
    "        \n",
    "    except Exception as e:\n",
    "        print(e)\n"
   ]
  },
  {
   "cell_type": "code",
   "execution_count": null,
   "id": "bc93392a",
   "metadata": {},
   "outputs": [],
   "source": [
    "# ---------------------------------------------------------\n",
    "# globals\n",
    "# ---------------------------------------------------------\n",
    "# number of images to store in a tfrecord\n",
    "DATA_NUM  = 1024\n",
    "\n",
    "#---------------------------------------------------------------\n",
    "def _bytes_feature(value):\n",
    "    return tf.train.Feature(bytes_list=tf.train.BytesList(value=[value]))\n",
    "\n",
    "\n",
    "def to_tfrecord(image_paths,save_dir,r_num):\n",
    "    '''\t            \n",
    "      Creates tfrecords from Provided Image Paths\t        \n",
    "      args:\t        \n",
    "        image_paths     :   specific number of image paths\t       \n",
    "        save_dir        :   location to save the tfrecords\t           \n",
    "        r_num           :   record number\t\n",
    "    '''\n",
    "    # record name\n",
    "    tfrecord_name='{}.tfrecord'.format(r_num)\n",
    "    # path\n",
    "    tfrecord_path=os.path.join(save_dir,tfrecord_name)\n",
    "    with tf.io.TFRecordWriter(tfrecord_path) as writer:    \n",
    "        for image_path in image_paths:\n",
    "            \n",
    "            target_path=str(image_path).replace('images','targets')\n",
    "            #image\n",
    "            with(open(image_path,'rb')) as fid:\n",
    "                image_bytes=fid.read()\n",
    "            # target\n",
    "            with(open(target_path,'rb')) as fid:\n",
    "                target_bytes=fid.read()\n",
    "            \n",
    "            \n",
    "            data ={ 'image':_bytes_feature(image_bytes),\n",
    "                    'target':_bytes_feature(target_bytes),\n",
    "            }\n",
    "            # write\n",
    "            features=tf.train.Features(feature=data)\n",
    "            example= tf.train.Example(features=features)\n",
    "            serialized=example.SerializeToString()\n",
    "            writer.write(serialized)\n",
    "\n",
    "\n",
    "def genTFRecords(_paths,mode_dir):\n",
    "    '''\t        \n",
    "        tf record wrapper\n",
    "        args:\t        \n",
    "            _paths    :   all image paths for a mode\t        \n",
    "            mode_dir  :   location to save the tfrecords\t    \n",
    "    '''\n",
    "    for i in tqdm(range(0,len(_paths),DATA_NUM)):\n",
    "        # paths\n",
    "        image_paths= _paths[i:i+DATA_NUM]\n",
    "        # record num\n",
    "        r_num=i // DATA_NUM\n",
    "        # create tfrecord\n",
    "        to_tfrecord(image_paths,mode_dir,r_num)    "
   ]
  },
  {
   "cell_type": "code",
   "execution_count": null,
   "id": "280ef5b4",
   "metadata": {},
   "outputs": [],
   "source": []
  },
  {
   "cell_type": "code",
   "execution_count": null,
   "id": "6541ad24",
   "metadata": {},
   "outputs": [],
   "source": [
    "# paths    \n",
    "img_paths=[img_path for img_path in glob(os.path.join(img_dir,\"*.*\"))]\n",
    "# tfrecords\n",
    "genTFRecords(img_paths,rec_dir)"
   ]
  },
  {
   "cell_type": "code",
   "execution_count": null,
   "id": "fa97b6d3",
   "metadata": {},
   "outputs": [],
   "source": []
  },
  {
   "cell_type": "code",
   "execution_count": null,
   "id": "9d427c6d",
   "metadata": {},
   "outputs": [],
   "source": []
  }
 ],
 "metadata": {
  "kernelspec": {
   "display_name": "bangla",
   "language": "python",
   "name": "bangla"
  },
  "language_info": {
   "codemirror_mode": {
    "name": "ipython",
    "version": 3
   },
   "file_extension": ".py",
   "mimetype": "text/x-python",
   "name": "python",
   "nbconvert_exporter": "python",
   "pygments_lexer": "ipython3",
   "version": "3.8.5"
  }
 },
 "nbformat": 4,
 "nbformat_minor": 5
}
